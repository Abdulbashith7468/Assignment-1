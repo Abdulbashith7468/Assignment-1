{
 "cells": [
  {
   "cell_type": "code",
   "execution_count": 11,
   "id": "4cd6ffbc-8964-4726-9523-5d09b02f6976",
   "metadata": {},
   "outputs": [],
   "source": [
    "from numberoffunction import numberoffunction"
   ]
  },
  {
   "cell_type": "code",
   "execution_count": 2,
   "id": "d2054d14-e144-4645-826f-dc8bcba28ead",
   "metadata": {},
   "outputs": [
    {
     "name": "stdin",
     "output_type": "stream",
     "text": [
      "subject1= 78\n",
      "subject2= 67\n",
      "subject3= 79\n",
      "subject4= 98\n",
      "subject5= 68\n"
     ]
    },
    {
     "name": "stdout",
     "output_type": "stream",
     "text": [
      "Totl: 390\n",
      "percentage: 78.0\n"
     ]
    },
    {
     "data": {
      "text/plain": [
       "78.0"
      ]
     },
     "execution_count": 2,
     "metadata": {},
     "output_type": "execute_result"
    }
   ],
   "source": [
    "numberoffunction.findpercentage()"
   ]
  },
  {
   "cell_type": "code",
   "execution_count": 3,
   "id": "68699a1a-5518-490f-99bd-1fa9c04ab083",
   "metadata": {},
   "outputs": [
    {
     "name": "stdin",
     "output_type": "stream",
     "text": [
      "Height: 600\n",
      "Breadth: 600\n"
     ]
    },
    {
     "name": "stdout",
     "output_type": "stream",
     "text": [
      "area of triangle: 180000.0\n"
     ]
    },
    {
     "name": "stdin",
     "output_type": "stream",
     "text": [
      "Height1: 2500\n",
      "Height2: 3100\n",
      "breadth1: 12000\n"
     ]
    },
    {
     "name": "stdout",
     "output_type": "stream",
     "text": [
      "perimeter of triangle: 17600\n"
     ]
    },
    {
     "data": {
      "text/plain": [
       "180000.0"
      ]
     },
     "execution_count": 3,
     "metadata": {},
     "output_type": "execute_result"
    }
   ],
   "source": [
    "numberoffunction.triangle()"
   ]
  },
  {
   "cell_type": "code",
   "execution_count": 4,
   "id": "2b883e0a-01e7-4493-a6c1-dd33cdfb6e50",
   "metadata": {},
   "outputs": [
    {
     "name": "stdin",
     "output_type": "stream",
     "text": [
      "your gender: female\n",
      "your age: 21\n"
     ]
    },
    {
     "name": "stdout",
     "output_type": "stream",
     "text": [
      "Eligible for Marriage\n"
     ]
    },
    {
     "data": {
      "text/plain": [
       "'Eligible for Marriage'"
      ]
     },
     "execution_count": 4,
     "metadata": {},
     "output_type": "execute_result"
    }
   ],
   "source": [
    "numberoffunction.eligibleformarriage()"
   ]
  },
  {
   "cell_type": "code",
   "execution_count": null,
   "id": "dd0e52c2-d7e1-45fa-826d-e6cf7297be7b",
   "metadata": {},
   "outputs": [],
   "source": []
  }
 ],
 "metadata": {
  "kernelspec": {
   "display_name": "Python 3 (ipykernel)",
   "language": "python",
   "name": "python3"
  },
  "language_info": {
   "codemirror_mode": {
    "name": "ipython",
    "version": 3
   },
   "file_extension": ".py",
   "mimetype": "text/x-python",
   "name": "python",
   "nbconvert_exporter": "python",
   "pygments_lexer": "ipython3",
   "version": "3.12.4"
  }
 },
 "nbformat": 4,
 "nbformat_minor": 5
}
