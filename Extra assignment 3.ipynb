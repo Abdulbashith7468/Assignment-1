{
 "cells": [
  {
   "cell_type": "code",
   "execution_count": 34,
   "id": "406378ba-32a0-4e63-82ec-50bdda62211b",
   "metadata": {},
   "outputs": [],
   "source": [
    "#print 'CORRECT' if i==10"
   ]
  },
  {
   "cell_type": "code",
   "execution_count": 36,
   "id": "cbf70838-7bd1-4774-a5cc-df26de018730",
   "metadata": {},
   "outputs": [
    {
     "name": "stdin",
     "output_type": "stream",
     "text": [
      " Value: 10\n"
     ]
    },
    {
     "name": "stdout",
     "output_type": "stream",
     "text": [
      "CORRECT\n"
     ]
    }
   ],
   "source": [
    "i=int(input(\" Value:\"))\n",
    "if(i==10):\n",
    "    print(\"CORRECT\")"
   ]
  },
  {
   "cell_type": "code",
   "execution_count": 49,
   "id": "9e79b43c-a888-4fe0-b527-9e337d3e4953",
   "metadata": {},
   "outputs": [],
   "source": [
    "#check The Password, using if and else\n",
    "password='HOPE@123'"
   ]
  },
  {
   "cell_type": "code",
   "execution_count": 50,
   "id": "c9c33b01-a73f-4b00-a7f8-b08842cc99f4",
   "metadata": {},
   "outputs": [
    {
     "name": "stdin",
     "output_type": "stream",
     "text": [
      "Enter The Password HOPE@123\n"
     ]
    },
    {
     "name": "stdout",
     "output_type": "stream",
     "text": [
      "Your Password Is Correct\n"
     ]
    }
   ],
   "source": [
    "password=input(\"Enter The Password\")\n",
    "if('password=HOPE@123'):\n",
    "    print(\"Your Password Is Correct\")\n",
    "else:\n",
    "    print(\"The Password Is Wrong\")"
   ]
  },
  {
   "cell_type": "code",
   "execution_count": 83,
   "id": "cd5b5fa8-3180-41c7-aaa7-a49577335e92",
   "metadata": {},
   "outputs": [
    {
     "name": "stdin",
     "output_type": "stream",
     "text": [
      "age: 20\n"
     ]
    },
    {
     "name": "stdout",
     "output_type": "stream",
     "text": [
      "adult\n"
     ]
    }
   ],
   "source": [
    "age=int(input(\"age:\"))\n",
    "if(age<18):\n",
    "    print(\"children\")\n",
    "elif(age<36):\n",
    "    print(\"adult\")\n",
    "elif(age<=59):\n",
    "    print(\"citizen\")\n",
    "else:\n",
    "    print(\"senior citizen\")"
   ]
  },
  {
   "cell_type": "code",
   "execution_count": 87,
   "id": "f9ce9946-f44d-4e85-ab5a-195626e5ca90",
   "metadata": {},
   "outputs": [
    {
     "name": "stdin",
     "output_type": "stream",
     "text": [
      "Enter the number: 1\n"
     ]
    },
    {
     "name": "stdout",
     "output_type": "stream",
     "text": [
      "the number is positive\n"
     ]
    }
   ],
   "source": [
    "num=int(input(\"Enter the number:\"))\n",
    "if(num<0):\n",
    "    print(\"the number is negatve\")\n",
    "else:\n",
    "    print(\"the number is positive\")"
   ]
  },
  {
   "cell_type": "code",
   "execution_count": 92,
   "id": "74bb7077-508b-4eed-ae68-f86599e7c8af",
   "metadata": {},
   "outputs": [
    {
     "name": "stdin",
     "output_type": "stream",
     "text": [
      "enter the number to check: 22\n"
     ]
    },
    {
     "name": "stdout",
     "output_type": "stream",
     "text": [
      "number is not divisible by 5\n"
     ]
    }
   ],
   "source": [
    "num=int(input(\"enter the number to check:\"))\n",
    "if(num%5==0):\n",
    "    print(\"number is divisible by 5\")\n",
    "else:\n",
    "    print(\"number is not divisible by 5\")"
   ]
  },
  {
   "cell_type": "code",
   "execution_count": null,
   "id": "573a2e5f-4e43-487f-be3b-97aecaa89174",
   "metadata": {},
   "outputs": [],
   "source": []
  }
 ],
 "metadata": {
  "kernelspec": {
   "display_name": "Python 3 (ipykernel)",
   "language": "python",
   "name": "python3"
  },
  "language_info": {
   "codemirror_mode": {
    "name": "ipython",
    "version": 3
   },
   "file_extension": ".py",
   "mimetype": "text/x-python",
   "name": "python",
   "nbconvert_exporter": "python",
   "pygments_lexer": "ipython3",
   "version": "3.12.4"
  }
 },
 "nbformat": 4,
 "nbformat_minor": 5
}
