{
 "cells": [
  {
   "cell_type": "code",
   "execution_count": 23,
   "id": "d1ce4e0d-e25b-4bfb-8309-2a401dc0cec6",
   "metadata": {},
   "outputs": [],
   "source": [
    "lists=[\"subfields in AI are:\",\"Machine Learning,Neural Networks\",\"Vision\",\"Robotics\",\"Speech Processing\",\"Natural Language Processes\"]"
   ]
  },
  {
   "cell_type": "code",
   "execution_count": 30,
   "id": "7fe1d6de-8970-4d05-816e-3730f109ac3d",
   "metadata": {},
   "outputs": [],
   "source": [
    "class numberoffunction():\n",
    "    def oddeven():\n",
    "        num=int(input(\"enter the value\"))\n",
    "        if(num%2==1):\n",
    "            print(num,\"is odd number\")\n",
    "            value=num,\"is odd number\"\n",
    "        else:\n",
    "            print(num,\"is even number\")\n",
    "            value=num,\"is even number\"\n",
    "            return oddeven\n",
    "    def findpercentage():\n",
    "        sub1=int(input(\"subject1=\"))\n",
    "        sub2=int(input(\"subject2=\"))\n",
    "        sub3=int(input(\"subject3=\"))\n",
    "        sub4=int(input(\"subject4=\"))\n",
    "        sub5=int(input(\"subject5=\"))\n",
    "        total=sub1+sub2+sub3+sub4+sub5\n",
    "        percentage=float(total/5)\n",
    "        print(\"Totl:\",total)\n",
    "        print(\"percentage:\",percentage)\n",
    "        return percentage\n",
    "    def triangle():\n",
    "        height=int(input(\"Height:\"))\n",
    "        breadth=int(input(\"Breadth:\"))\n",
    "        area=(height*breadth)/2\n",
    "        print(\"area of triangle:\",area)\n",
    "        height1=int(input(\"Height1:\"))\n",
    "        height2=int(input(\"Height2:\"))\n",
    "        breadth1=int(input(\"breadth1:\"))\n",
    "        perimeter=height1+height2+breadth1\n",
    "        print(\"perimeter of triangle:\",perimeter)\n",
    "        return area\n",
    "    def eligibleformarriage():\n",
    "        gender=input(\"your gender:\")\n",
    "        age=int(input(\"your age:\"))\n",
    "        if(gender=='male' and age>=25):\n",
    "            print(\"Eligible for Marriage\")\n",
    "            approve=\"Eligible for Marriage\"\n",
    "        elif(gender=='female' and age>=21):\n",
    "            print(\"Eligible for Marriage\")\n",
    "            approve=\"Eligible for Marriage\"\n",
    "        else:\n",
    "            print(\"Not Eligible for Marriage\")\n",
    "            approve=\"Not Eligible for Marriage\"\n",
    "        return approve\n",
    "    def subfieldsinAI():\n",
    "        for subfields in lists:\n",
    "            print(subfields)"
   ]
  },
  {
   "cell_type": "code",
   "execution_count": 18,
   "id": "577453f2-8f23-44a2-a68e-866a595c10bb",
   "metadata": {},
   "outputs": [
    {
     "name": "stdin",
     "output_type": "stream",
     "text": [
      "subject1= 98\n",
      "subject2= 94\n",
      "subject3= 88\n",
      "subject4= 94\n",
      "subject5= 92\n"
     ]
    },
    {
     "name": "stdout",
     "output_type": "stream",
     "text": [
      "Totl: 466\n",
      "percentage: 93.2\n"
     ]
    },
    {
     "data": {
      "text/plain": [
       "93.2"
      ]
     },
     "execution_count": 18,
     "metadata": {},
     "output_type": "execute_result"
    }
   ],
   "source": [
    "numberoffunction.findpercentage()"
   ]
  },
  {
   "cell_type": "code",
   "execution_count": 24,
   "id": "bbb2e8bc-64e9-4b77-b7cc-5d175297098f",
   "metadata": {},
   "outputs": [
    {
     "name": "stdout",
     "output_type": "stream",
     "text": [
      "subfields in AI are:\n",
      "Machine Learning,Neural Networks\n",
      "Vision\n",
      "Robotics\n",
      "Speech Processing\n",
      "Natural Language Processes\n"
     ]
    }
   ],
   "source": [
    "numberoffunction.subfieldsinAI()"
   ]
  },
  {
   "cell_type": "code",
   "execution_count": 25,
   "id": "cf2bac50-52f5-42ef-9fad-6d6ee65b3815",
   "metadata": {},
   "outputs": [
    {
     "name": "stdin",
     "output_type": "stream",
     "text": [
      "your gender: male\n",
      "your age: 21\n"
     ]
    },
    {
     "name": "stdout",
     "output_type": "stream",
     "text": [
      "Not Eligible for Marriage\n"
     ]
    },
    {
     "data": {
      "text/plain": [
       "'Not Eligible for Marriage'"
      ]
     },
     "execution_count": 25,
     "metadata": {},
     "output_type": "execute_result"
    }
   ],
   "source": [
    "numberoffunction.eligibleformarriage()"
   ]
  },
  {
   "cell_type": "code",
   "execution_count": 31,
   "id": "71c01a47-dbc1-45fd-a3fe-d19fd7449dda",
   "metadata": {},
   "outputs": [
    {
     "name": "stdin",
     "output_type": "stream",
     "text": [
      "enter the value 67\n"
     ]
    },
    {
     "name": "stdout",
     "output_type": "stream",
     "text": [
      "67 is odd number\n"
     ]
    }
   ],
   "source": [
    "numberoffunction.oddeven()"
   ]
  },
  {
   "cell_type": "code",
   "execution_count": null,
   "id": "af6b733c-6c88-467e-9be8-0fe61bec6972",
   "metadata": {},
   "outputs": [],
   "source": []
  }
 ],
 "metadata": {
  "kernelspec": {
   "display_name": "Python 3 (ipykernel)",
   "language": "python",
   "name": "python3"
  },
  "language_info": {
   "codemirror_mode": {
    "name": "ipython",
    "version": 3
   },
   "file_extension": ".py",
   "mimetype": "text/x-python",
   "name": "python",
   "nbconvert_exporter": "python",
   "pygments_lexer": "ipython3",
   "version": "3.12.4"
  }
 },
 "nbformat": 4,
 "nbformat_minor": 5
}
